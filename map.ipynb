{
 "cells": [
  {
   "cell_type": "code",
   "execution_count": 188,
   "metadata": {},
   "outputs": [],
   "source": [
    "import matplotlib.pyplot as plt\n",
    "import plotly.graph_objs as go\n",
    "import pandas as pd\n",
    "import geopandas as gpd"
   ]
  },
  {
   "cell_type": "code",
   "execution_count": 189,
   "metadata": {},
   "outputs": [],
   "source": [
    "map_df = gpd.read_file('districtes.geojson').filter(items=['NOM', 'geometry'])"
   ]
  },
  {
   "cell_type": "code",
   "execution_count": 190,
   "metadata": {},
   "outputs": [
    {
     "data": {
      "text/html": [
       "<div>\n",
       "<style scoped>\n",
       "    .dataframe tbody tr th:only-of-type {\n",
       "        vertical-align: middle;\n",
       "    }\n",
       "\n",
       "    .dataframe tbody tr th {\n",
       "        vertical-align: top;\n",
       "    }\n",
       "\n",
       "    .dataframe thead th {\n",
       "        text-align: right;\n",
       "    }\n",
       "</style>\n",
       "<table border=\"1\" class=\"dataframe\">\n",
       "  <thead>\n",
       "    <tr style=\"text-align: right;\">\n",
       "      <th></th>\n",
       "      <th>NOM</th>\n",
       "      <th>geometry</th>\n",
       "    </tr>\n",
       "  </thead>\n",
       "  <tbody>\n",
       "    <tr>\n",
       "      <td>0</td>\n",
       "      <td>Ciutat Vella</td>\n",
       "      <td>POLYGON ((2.18345 41.39061, 2.18459 41.38976, ...</td>\n",
       "    </tr>\n",
       "    <tr>\n",
       "      <td>1</td>\n",
       "      <td>Eixample</td>\n",
       "      <td>POLYGON ((2.18690 41.40165, 2.18689 41.40087, ...</td>\n",
       "    </tr>\n",
       "    <tr>\n",
       "      <td>2</td>\n",
       "      <td>Sants-Montjuïc</td>\n",
       "      <td>MULTIPOLYGON (((2.14824 41.37623, 2.14896 41.3...</td>\n",
       "    </tr>\n",
       "    <tr>\n",
       "      <td>3</td>\n",
       "      <td>Les Corts</td>\n",
       "      <td>POLYGON ((2.10342 41.40110, 2.10352 41.40109, ...</td>\n",
       "    </tr>\n",
       "    <tr>\n",
       "      <td>4</td>\n",
       "      <td>Sarrià-Sant Gervasi</td>\n",
       "      <td>MULTIPOLYGON (((2.07313 41.43522, 2.07319 41.4...</td>\n",
       "    </tr>\n",
       "    <tr>\n",
       "      <td>5</td>\n",
       "      <td>Gràcia</td>\n",
       "      <td>POLYGON ((2.13629 41.42363, 2.13640 41.42358, ...</td>\n",
       "    </tr>\n",
       "    <tr>\n",
       "      <td>6</td>\n",
       "      <td>Horta-Guinardó</td>\n",
       "      <td>POLYGON ((2.15949 41.44977, 2.15942 41.44960, ...</td>\n",
       "    </tr>\n",
       "    <tr>\n",
       "      <td>7</td>\n",
       "      <td>Nou Barris</td>\n",
       "      <td>POLYGON ((2.18706 41.46772, 2.18711 41.46711, ...</td>\n",
       "    </tr>\n",
       "    <tr>\n",
       "      <td>8</td>\n",
       "      <td>Sant Andreu</td>\n",
       "      <td>POLYGON ((2.18764 41.46212, 2.18765 41.46208, ...</td>\n",
       "    </tr>\n",
       "    <tr>\n",
       "      <td>9</td>\n",
       "      <td>Sant Martí</td>\n",
       "      <td>POLYGON ((2.20736 41.42711, 2.20698 41.42665, ...</td>\n",
       "    </tr>\n",
       "  </tbody>\n",
       "</table>\n",
       "</div>"
      ],
      "text/plain": [
       "                   NOM                                           geometry\n",
       "0         Ciutat Vella  POLYGON ((2.18345 41.39061, 2.18459 41.38976, ...\n",
       "1             Eixample  POLYGON ((2.18690 41.40165, 2.18689 41.40087, ...\n",
       "2       Sants-Montjuïc  MULTIPOLYGON (((2.14824 41.37623, 2.14896 41.3...\n",
       "3            Les Corts  POLYGON ((2.10342 41.40110, 2.10352 41.40109, ...\n",
       "4  Sarrià-Sant Gervasi  MULTIPOLYGON (((2.07313 41.43522, 2.07319 41.4...\n",
       "5               Gràcia  POLYGON ((2.13629 41.42363, 2.13640 41.42358, ...\n",
       "6       Horta-Guinardó  POLYGON ((2.15949 41.44977, 2.15942 41.44960, ...\n",
       "7           Nou Barris  POLYGON ((2.18706 41.46772, 2.18711 41.46711, ...\n",
       "8          Sant Andreu  POLYGON ((2.18764 41.46212, 2.18765 41.46208, ...\n",
       "9           Sant Martí  POLYGON ((2.20736 41.42711, 2.20698 41.42665, ..."
      ]
     },
     "metadata": {},
     "output_type": "display_data"
    },
    {
     "data": {
      "text/plain": [
       "Index(['NOM', 'geometry'], dtype='object')"
      ]
     },
     "execution_count": 190,
     "metadata": {},
     "output_type": "execute_result"
    }
   ],
   "source": [
    "display(map_df)\n",
    "map_df.columns"
   ]
  },
  {
   "cell_type": "code",
   "execution_count": 191,
   "metadata": {},
   "outputs": [
    {
     "data": {
      "text/html": [
       "<div>\n",
       "<style scoped>\n",
       "    .dataframe tbody tr th:only-of-type {\n",
       "        vertical-align: middle;\n",
       "    }\n",
       "\n",
       "    .dataframe tbody tr th {\n",
       "        vertical-align: top;\n",
       "    }\n",
       "\n",
       "    .dataframe thead th {\n",
       "        text-align: right;\n",
       "    }\n",
       "</style>\n",
       "<table border=\"1\" class=\"dataframe\">\n",
       "  <thead>\n",
       "    <tr style=\"text-align: right;\">\n",
       "      <th></th>\n",
       "      <th>Number</th>\n",
       "    </tr>\n",
       "    <tr>\n",
       "      <th>District Name</th>\n",
       "      <th></th>\n",
       "    </tr>\n",
       "  </thead>\n",
       "  <tbody>\n",
       "    <tr>\n",
       "      <td>Ciutat Vella</td>\n",
       "      <td>6826</td>\n",
       "    </tr>\n",
       "    <tr>\n",
       "      <td>Eixample</td>\n",
       "      <td>9883</td>\n",
       "    </tr>\n",
       "    <tr>\n",
       "      <td>Gràcia</td>\n",
       "      <td>4781</td>\n",
       "    </tr>\n",
       "    <tr>\n",
       "      <td>Horta-Guinardó</td>\n",
       "      <td>7972</td>\n",
       "    </tr>\n",
       "    <tr>\n",
       "      <td>Les Corts</td>\n",
       "      <td>2823</td>\n",
       "    </tr>\n",
       "    <tr>\n",
       "      <td>No consta</td>\n",
       "      <td>7</td>\n",
       "    </tr>\n",
       "    <tr>\n",
       "      <td>Nou Barris</td>\n",
       "      <td>10065</td>\n",
       "    </tr>\n",
       "    <tr>\n",
       "      <td>Sant Andreu</td>\n",
       "      <td>7306</td>\n",
       "    </tr>\n",
       "    <tr>\n",
       "      <td>Sant Martí</td>\n",
       "      <td>11694</td>\n",
       "    </tr>\n",
       "    <tr>\n",
       "      <td>Sants-Montjuïc</td>\n",
       "      <td>8883</td>\n",
       "    </tr>\n",
       "    <tr>\n",
       "      <td>Sarrià-Sant Gervasi</td>\n",
       "      <td>3512</td>\n",
       "    </tr>\n",
       "  </tbody>\n",
       "</table>\n",
       "</div>"
      ],
      "text/plain": [
       "                     Number\n",
       "District Name              \n",
       "Ciutat Vella           6826\n",
       "Eixample               9883\n",
       "Gràcia                 4781\n",
       "Horta-Guinardó         7972\n",
       "Les Corts              2823\n",
       "No consta                 7\n",
       "Nou Barris            10065\n",
       "Sant Andreu            7306\n",
       "Sant Martí            11694\n",
       "Sants-Montjuïc         8883\n",
       "Sarrià-Sant Gervasi    3512"
      ]
     },
     "execution_count": 191,
     "metadata": {},
     "output_type": "execute_result"
    }
   ],
   "source": [
    "unemployment_df"
   ]
  },
  {
   "cell_type": "code",
   "execution_count": 192,
   "metadata": {},
   "outputs": [],
   "source": [
    "unemployment_df = pd.read_csv('unemployment.csv')\n",
    "unemployment_df = unemployment_df[unemployment_df[\"Demand_occupation\"] == \"Registered unemployed\"]\n",
    "unemployment_df = unemployment_df[unemployment_df['Year'] == 2017]\n",
    "unemployment_df = unemployment_df[unemployment_df['Month'] == \"December\"]\n",
    "unemployment_df = unemployment_df.groupby('District Name').sum().head(50)\n",
    "unemployment_df = unemployment_df.filter(items=[\"Number\"])\n",
    "map_df = map_df.set_index('NOM').join(unemployment_df)"
   ]
  },
  {
   "cell_type": "code",
   "execution_count": 194,
   "metadata": {},
   "outputs": [
    {
     "data": {
      "image/png": "[encoded data removed]",
      "text/plain": [
       "<Figure size 720x432 with 2 Axes>"
      ]
     },
     "metadata": {
      "needs_background": "light"
     },
     "output_type": "display_data"
    }
   ],
   "source": [
    "# set a variable that will call whatever column we want to visualise on the map\n",
    "variable = 'Number'\n",
    "\n",
    "# set the range for the choropleth\n",
    "vmin, vmax = 0, 12000\n",
    "\n",
    "# create figure and axes for Matplotlib\n",
    "fig, ax = plt.subplots(1, figsize=(10, 6))\n",
    "\n",
    "# create map\n",
    "map_df.plot(column=variable, cmap='Reds', linewidth=0.8, ax=ax, edgecolor='0.8')\n",
    "ax.axis('off')\n",
    "\n",
    "# add a title\n",
    "ax.set_title('Unemployment in Barcelona per district in 2017', fontdict={'fontsize': '18', 'fontweight' : '3'})\n",
    "\n",
    "\n",
    "# Create colorbar as a legend\n",
    "sm = plt.cm.ScalarMappable(cmap='Reds', norm=plt.Normalize(vmin=vmin, vmax=vmax))\n",
    "sm._A = []\n",
    "cbar = fig.colorbar(sm)\n"
   ]
  },
  {
   "cell_type": "code",
   "execution_count": null,
   "metadata": {},
   "outputs": [],
   "source": []
  },
  {
   "cell_type": "code",
   "execution_count": null,
   "metadata": {},
   "outputs": [],
   "source": []
  }
 ],
 "metadata": {
  "kernelspec": {
   "display_name": "Python 3",
   "language": "python",
   "name": "python3"
  },
  "language_info": {
   "codemirror_mode": {
    "name": "ipython",
    "version": 3
   },
   "file_extension": ".py",
   "mimetype": "text/x-python",
   "name": "python",
   "nbconvert_exporter": "python",
   "pygments_lexer": "ipython3",
   "version": "3.7.4"
  }
 },
 "nbformat": 4,
 "nbformat_minor": 2
}
