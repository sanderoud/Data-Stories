{
 "cells": [
  {
   "cell_type": "code",
   "execution_count": 1,
   "metadata": {},
   "outputs": [],
   "source": [
    "import matplotlib.pyplot as plt\n",
    "import plotly.graph_objs as go\n",
    "import pandas as pd\n",
    "import geopandas as gpd"
   ]
  },
  {
   "cell_type": "code",
   "execution_count": 2,
   "metadata": {},
   "outputs": [
    {
     "data": {
      "text/html": [
       "<div>\n",
       "<style scoped>\n",
       "    .dataframe tbody tr th:only-of-type {\n",
       "        vertical-align: middle;\n",
       "    }\n",
       "\n",
       "    .dataframe tbody tr th {\n",
       "        vertical-align: top;\n",
       "    }\n",
       "\n",
       "    .dataframe thead th {\n",
       "        text-align: right;\n",
       "    }\n",
       "</style>\n",
       "<table border=\"1\" class=\"dataframe\">\n",
       "  <thead>\n",
       "    <tr style=\"text-align: right;\">\n",
       "      <th></th>\n",
       "      <th>NOM</th>\n",
       "      <th>geometry</th>\n",
       "    </tr>\n",
       "  </thead>\n",
       "  <tbody>\n",
       "    <tr>\n",
       "      <td>0</td>\n",
       "      <td>Ciutat Vella</td>\n",
       "      <td>POLYGON ((2.18345 41.39061, 2.18459 41.38976, ...</td>\n",
       "    </tr>\n",
       "    <tr>\n",
       "      <td>1</td>\n",
       "      <td>Eixample</td>\n",
       "      <td>POLYGON ((2.18690 41.40165, 2.18689 41.40087, ...</td>\n",
       "    </tr>\n",
       "    <tr>\n",
       "      <td>2</td>\n",
       "      <td>Sants-Montjuïc</td>\n",
       "      <td>MULTIPOLYGON (((2.14824 41.37623, 2.14896 41.3...</td>\n",
       "    </tr>\n",
       "    <tr>\n",
       "      <td>3</td>\n",
       "      <td>Les Corts</td>\n",
       "      <td>POLYGON ((2.10342 41.40110, 2.10352 41.40109, ...</td>\n",
       "    </tr>\n",
       "    <tr>\n",
       "      <td>4</td>\n",
       "      <td>Sarrià-Sant Gervasi</td>\n",
       "      <td>MULTIPOLYGON (((2.07313 41.43522, 2.07319 41.4...</td>\n",
       "    </tr>\n",
       "    <tr>\n",
       "      <td>5</td>\n",
       "      <td>Gràcia</td>\n",
       "      <td>POLYGON ((2.13629 41.42363, 2.13640 41.42358, ...</td>\n",
       "    </tr>\n",
       "    <tr>\n",
       "      <td>6</td>\n",
       "      <td>Horta-Guinardó</td>\n",
       "      <td>POLYGON ((2.15949 41.44977, 2.15942 41.44960, ...</td>\n",
       "    </tr>\n",
       "    <tr>\n",
       "      <td>7</td>\n",
       "      <td>Nou Barris</td>\n",
       "      <td>POLYGON ((2.18706 41.46772, 2.18711 41.46711, ...</td>\n",
       "    </tr>\n",
       "    <tr>\n",
       "      <td>8</td>\n",
       "      <td>Sant Andreu</td>\n",
       "      <td>POLYGON ((2.18764 41.46212, 2.18765 41.46208, ...</td>\n",
       "    </tr>\n",
       "    <tr>\n",
       "      <td>9</td>\n",
       "      <td>Sant Martí</td>\n",
       "      <td>POLYGON ((2.20736 41.42711, 2.20698 41.42665, ...</td>\n",
       "    </tr>\n",
       "  </tbody>\n",
       "</table>\n",
       "</div>"
      ],
      "text/plain": [
       "                   NOM                                           geometry\n",
       "0         Ciutat Vella  POLYGON ((2.18345 41.39061, 2.18459 41.38976, ...\n",
       "1             Eixample  POLYGON ((2.18690 41.40165, 2.18689 41.40087, ...\n",
       "2       Sants-Montjuïc  MULTIPOLYGON (((2.14824 41.37623, 2.14896 41.3...\n",
       "3            Les Corts  POLYGON ((2.10342 41.40110, 2.10352 41.40109, ...\n",
       "4  Sarrià-Sant Gervasi  MULTIPOLYGON (((2.07313 41.43522, 2.07319 41.4...\n",
       "5               Gràcia  POLYGON ((2.13629 41.42363, 2.13640 41.42358, ...\n",
       "6       Horta-Guinardó  POLYGON ((2.15949 41.44977, 2.15942 41.44960, ...\n",
       "7           Nou Barris  POLYGON ((2.18706 41.46772, 2.18711 41.46711, ...\n",
       "8          Sant Andreu  POLYGON ((2.18764 41.46212, 2.18765 41.46208, ...\n",
       "9           Sant Martí  POLYGON ((2.20736 41.42711, 2.20698 41.42665, ..."
      ]
     },
     "metadata": {},
     "output_type": "display_data"
    }
   ],
   "source": [
    "map_df = gpd.read_file('districtes.geojson').filter(items=['NOM', 'geometry'])\n",
    "display(map_df)"
   ]
  },
  {
   "cell_type": "code",
   "execution_count": 3,
   "metadata": {},
   "outputs": [
    {
     "data": {
      "text/html": [
       "<div>\n",
       "<style scoped>\n",
       "    .dataframe tbody tr th:only-of-type {\n",
       "        vertical-align: middle;\n",
       "    }\n",
       "\n",
       "    .dataframe tbody tr th {\n",
       "        vertical-align: top;\n",
       "    }\n",
       "\n",
       "    .dataframe thead th {\n",
       "        text-align: right;\n",
       "    }\n",
       "</style>\n",
       "<table border=\"1\" class=\"dataframe\">\n",
       "  <thead>\n",
       "    <tr style=\"text-align: right;\">\n",
       "      <th></th>\n",
       "      <th>unemployment</th>\n",
       "    </tr>\n",
       "    <tr>\n",
       "      <th>District Name</th>\n",
       "      <th></th>\n",
       "    </tr>\n",
       "  </thead>\n",
       "  <tbody>\n",
       "    <tr>\n",
       "      <td>Ciutat Vella</td>\n",
       "      <td>6826</td>\n",
       "    </tr>\n",
       "    <tr>\n",
       "      <td>Eixample</td>\n",
       "      <td>9883</td>\n",
       "    </tr>\n",
       "    <tr>\n",
       "      <td>Gràcia</td>\n",
       "      <td>4781</td>\n",
       "    </tr>\n",
       "    <tr>\n",
       "      <td>Horta-Guinardó</td>\n",
       "      <td>7972</td>\n",
       "    </tr>\n",
       "    <tr>\n",
       "      <td>Les Corts</td>\n",
       "      <td>2823</td>\n",
       "    </tr>\n",
       "    <tr>\n",
       "      <td>No consta</td>\n",
       "      <td>7</td>\n",
       "    </tr>\n",
       "    <tr>\n",
       "      <td>Nou Barris</td>\n",
       "      <td>10065</td>\n",
       "    </tr>\n",
       "    <tr>\n",
       "      <td>Sant Andreu</td>\n",
       "      <td>7306</td>\n",
       "    </tr>\n",
       "    <tr>\n",
       "      <td>Sant Martí</td>\n",
       "      <td>11694</td>\n",
       "    </tr>\n",
       "    <tr>\n",
       "      <td>Sants-Montjuïc</td>\n",
       "      <td>8883</td>\n",
       "    </tr>\n",
       "    <tr>\n",
       "      <td>Sarrià-Sant Gervasi</td>\n",
       "      <td>3512</td>\n",
       "    </tr>\n",
       "  </tbody>\n",
       "</table>\n",
       "</div>"
      ],
      "text/plain": [
       "                     unemployment\n",
       "District Name                    \n",
       "Ciutat Vella                 6826\n",
       "Eixample                     9883\n",
       "Gràcia                       4781\n",
       "Horta-Guinardó               7972\n",
       "Les Corts                    2823\n",
       "No consta                       7\n",
       "Nou Barris                  10065\n",
       "Sant Andreu                  7306\n",
       "Sant Martí                  11694\n",
       "Sants-Montjuïc               8883\n",
       "Sarrià-Sant Gervasi          3512"
      ]
     },
     "execution_count": 3,
     "metadata": {},
     "output_type": "execute_result"
    }
   ],
   "source": [
    "unemployment_df = pd.read_csv('unemployment.csv')\n",
    "unemployment_df = unemployment_df[(unemployment_df['Year'] == 2017) & (unemployment_df[\"Demand_occupation\"] == \"Registered unemployed\") & (unemployment_df['Month'] == \"December\")]\n",
    "unemployment_df = unemployment_df.groupby('District Name').sum().head(50)\n",
    "unemployment_df = unemployment_df.filter(items=[\"Number\"]).rename(columns={\"Number\": \"unemployment\"})\n",
    "unemployment_df"
   ]
  },
  {
   "cell_type": "code",
   "execution_count": 4,
   "metadata": {},
   "outputs": [
    {
     "data": {
      "text/html": [
       "<div>\n",
       "<style scoped>\n",
       "    .dataframe tbody tr th:only-of-type {\n",
       "        vertical-align: middle;\n",
       "    }\n",
       "\n",
       "    .dataframe tbody tr th {\n",
       "        vertical-align: top;\n",
       "    }\n",
       "\n",
       "    .dataframe thead th {\n",
       "        text-align: right;\n",
       "    }\n",
       "</style>\n",
       "<table border=\"1\" class=\"dataframe\">\n",
       "  <thead>\n",
       "    <tr style=\"text-align: right;\">\n",
       "      <th></th>\n",
       "      <th>geometry</th>\n",
       "      <th>population</th>\n",
       "      <th>unemployment</th>\n",
       "      <th>percentage</th>\n",
       "    </tr>\n",
       "    <tr>\n",
       "      <th>NOM</th>\n",
       "      <th></th>\n",
       "      <th></th>\n",
       "      <th></th>\n",
       "      <th></th>\n",
       "    </tr>\n",
       "  </thead>\n",
       "  <tbody>\n",
       "    <tr>\n",
       "      <td>Ciutat Vella</td>\n",
       "      <td>POLYGON ((2.18345 41.39061, 2.18459 41.38976, ...</td>\n",
       "      <td>101387</td>\n",
       "      <td>6826</td>\n",
       "      <td>6.732619</td>\n",
       "    </tr>\n",
       "    <tr>\n",
       "      <td>Eixample</td>\n",
       "      <td>POLYGON ((2.18690 41.40165, 2.18689 41.40087, ...</td>\n",
       "      <td>266416</td>\n",
       "      <td>9883</td>\n",
       "      <td>3.709612</td>\n",
       "    </tr>\n",
       "    <tr>\n",
       "      <td>Sants-Montjuïc</td>\n",
       "      <td>MULTIPOLYGON (((2.14824 41.37623, 2.14896 41.3...</td>\n",
       "      <td>181910</td>\n",
       "      <td>8883</td>\n",
       "      <td>4.883184</td>\n",
       "    </tr>\n",
       "    <tr>\n",
       "      <td>Les Corts</td>\n",
       "      <td>POLYGON ((2.10342 41.40110, 2.10352 41.40109, ...</td>\n",
       "      <td>82033</td>\n",
       "      <td>2823</td>\n",
       "      <td>3.441298</td>\n",
       "    </tr>\n",
       "    <tr>\n",
       "      <td>Sarrià-Sant Gervasi</td>\n",
       "      <td>MULTIPOLYGON (((2.07313 41.43522, 2.07319 41.4...</td>\n",
       "      <td>149279</td>\n",
       "      <td>3512</td>\n",
       "      <td>2.352642</td>\n",
       "    </tr>\n",
       "    <tr>\n",
       "      <td>Gràcia</td>\n",
       "      <td>POLYGON ((2.13629 41.42363, 2.13640 41.42358, ...</td>\n",
       "      <td>121347</td>\n",
       "      <td>4781</td>\n",
       "      <td>3.939941</td>\n",
       "    </tr>\n",
       "    <tr>\n",
       "      <td>Horta-Guinardó</td>\n",
       "      <td>POLYGON ((2.15949 41.44977, 2.15942 41.44960, ...</td>\n",
       "      <td>168751</td>\n",
       "      <td>7972</td>\n",
       "      <td>4.724120</td>\n",
       "    </tr>\n",
       "    <tr>\n",
       "      <td>Nou Barris</td>\n",
       "      <td>POLYGON ((2.18706 41.46772, 2.18711 41.46711, ...</td>\n",
       "      <td>166579</td>\n",
       "      <td>10065</td>\n",
       "      <td>6.042178</td>\n",
       "    </tr>\n",
       "    <tr>\n",
       "      <td>Sant Andreu</td>\n",
       "      <td>POLYGON ((2.18764 41.46212, 2.18765 41.46208, ...</td>\n",
       "      <td>147594</td>\n",
       "      <td>7306</td>\n",
       "      <td>4.950066</td>\n",
       "    </tr>\n",
       "    <tr>\n",
       "      <td>Sant Martí</td>\n",
       "      <td>POLYGON ((2.20736 41.42711, 2.20698 41.42665, ...</td>\n",
       "      <td>235513</td>\n",
       "      <td>11694</td>\n",
       "      <td>4.965331</td>\n",
       "    </tr>\n",
       "  </tbody>\n",
       "</table>\n",
       "</div>"
      ],
      "text/plain": [
       "                                                              geometry  \\\n",
       "NOM                                                                      \n",
       "Ciutat Vella         POLYGON ((2.18345 41.39061, 2.18459 41.38976, ...   \n",
       "Eixample             POLYGON ((2.18690 41.40165, 2.18689 41.40087, ...   \n",
       "Sants-Montjuïc       MULTIPOLYGON (((2.14824 41.37623, 2.14896 41.3...   \n",
       "Les Corts            POLYGON ((2.10342 41.40110, 2.10352 41.40109, ...   \n",
       "Sarrià-Sant Gervasi  MULTIPOLYGON (((2.07313 41.43522, 2.07319 41.4...   \n",
       "Gràcia               POLYGON ((2.13629 41.42363, 2.13640 41.42358, ...   \n",
       "Horta-Guinardó       POLYGON ((2.15949 41.44977, 2.15942 41.44960, ...   \n",
       "Nou Barris           POLYGON ((2.18706 41.46772, 2.18711 41.46711, ...   \n",
       "Sant Andreu          POLYGON ((2.18764 41.46212, 2.18765 41.46208, ...   \n",
       "Sant Martí           POLYGON ((2.20736 41.42711, 2.20698 41.42665, ...   \n",
       "\n",
       "                     population  unemployment  percentage  \n",
       "NOM                                                        \n",
       "Ciutat Vella             101387          6826    6.732619  \n",
       "Eixample                 266416          9883    3.709612  \n",
       "Sants-Montjuïc           181910          8883    4.883184  \n",
       "Les Corts                 82033          2823    3.441298  \n",
       "Sarrià-Sant Gervasi      149279          3512    2.352642  \n",
       "Gràcia                   121347          4781    3.939941  \n",
       "Horta-Guinardó           168751          7972    4.724120  \n",
       "Nou Barris               166579         10065    6.042178  \n",
       "Sant Andreu              147594          7306    4.950066  \n",
       "Sant Martí               235513         11694    4.965331  "
      ]
     },
     "execution_count": 4,
     "metadata": {},
     "output_type": "execute_result"
    }
   ],
   "source": [
    "population = pd.read_csv('population.csv').filter(['Year', 'Number', 'District.Name'])\n",
    "population = population[population['Year'] == 2017].groupby('District.Name').sum().drop('Year', axis=1).rename(columns={\"Number\": \"population\"})\n",
    "population = population.join(unemployment_df)\n",
    "population['percentage'] = population['unemployment'] / population['population'] * 100\n",
    "\n",
    "map_df = map_df.set_index('NOM').join(population)\n",
    "map_df"
   ]
  },
  {
   "cell_type": "code",
   "execution_count": 5,
   "metadata": {},
   "outputs": [
    {
     "data": {
      "text/plain": [
       "Text(0.5, 1.0, 'Unemployment rate in Barcelona per district in 2017 as percentage of the population')"
      ]
     },
     "execution_count": 5,
     "metadata": {},
     "output_type": "execute_result"
    },
    {
     "data": {
      "image/png": "[encoded data removed]",
      "text/plain": [
       "<Figure size 720x432 with 2 Axes>"
      ]
     },
     "metadata": {
      "needs_background": "light"
     },
     "output_type": "display_data"
    }
   ],
   "source": [
    "# set a variable that will call whatever column we want to visualise on the map\n",
    "variable = 'percentage'\n",
    "\n",
    "# set the range for the choropleth\n",
    "vmin, vmax = 0, 10\n",
    "\n",
    "# create figure and axes for Matplotlib\n",
    "fig, ax = plt.subplots(1, figsize=(10, 6))\n",
    "\n",
    "# create map\n",
    "ax.axis('off')\n",
    "map_df.plot(column='percentage', ax=ax, legend=True, cmap='YlOrRd', edgecolor='.7')\n",
    "ax.set_title('Unemployment rate in Barcelona per district in 2017 as percentage of the population', fontdict={'fontsize': '14', 'fontweight' : '3'})\n",
    "\n"
   ]
  },
  {
   "cell_type": "code",
   "execution_count": 9,
   "metadata": {},
   "outputs": [
    {
     "data": {
      "text/html": [
       "<div>\n",
       "<style scoped>\n",
       "    .dataframe tbody tr th:only-of-type {\n",
       "        vertical-align: middle;\n",
       "    }\n",
       "\n",
       "    .dataframe tbody tr th {\n",
       "        vertical-align: top;\n",
       "    }\n",
       "\n",
       "    .dataframe thead th {\n",
       "        text-align: right;\n",
       "    }\n",
       "</style>\n",
       "<table border=\"1\" class=\"dataframe\">\n",
       "  <thead>\n",
       "    <tr style=\"text-align: right;\">\n",
       "      <th></th>\n",
       "      <th>O3 Value</th>\n",
       "      <th>NO2 Value</th>\n",
       "      <th>PM10 Value</th>\n",
       "    </tr>\n",
       "    <tr>\n",
       "      <th>Station</th>\n",
       "      <th></th>\n",
       "      <th></th>\n",
       "      <th></th>\n",
       "    </tr>\n",
       "  </thead>\n",
       "  <tbody>\n",
       "    <tr>\n",
       "      <td>Barcelona - Ciutadella</td>\n",
       "      <td>25.200557</td>\n",
       "      <td>39.984680</td>\n",
       "      <td>21.066852</td>\n",
       "    </tr>\n",
       "    <tr>\n",
       "      <td>Barcelona - Poblenou</td>\n",
       "      <td>31.961003</td>\n",
       "      <td>40.444290</td>\n",
       "      <td>20.055710</td>\n",
       "    </tr>\n",
       "    <tr>\n",
       "      <td>Barcelona - Eixample</td>\n",
       "      <td>21.655989</td>\n",
       "      <td>53.717270</td>\n",
       "      <td>22.781337</td>\n",
       "    </tr>\n",
       "    <tr>\n",
       "      <td>Barcelona - Gràcia</td>\n",
       "      <td>26.274373</td>\n",
       "      <td>45.593315</td>\n",
       "      <td>21.066852</td>\n",
       "    </tr>\n",
       "    <tr>\n",
       "      <td>Barcelona - Palau Reial</td>\n",
       "      <td>31.961003</td>\n",
       "      <td>28.454039</td>\n",
       "      <td>14.721448</td>\n",
       "    </tr>\n",
       "    <tr>\n",
       "      <td>Barcelona - Vall Hebron</td>\n",
       "      <td>36.403900</td>\n",
       "      <td>30.849582</td>\n",
       "      <td>14.728412</td>\n",
       "    </tr>\n",
       "    <tr>\n",
       "      <td>Barcelona - Observ Fabra</td>\n",
       "      <td>64.207521</td>\n",
       "      <td>12.271588</td>\n",
       "      <td>10.941504</td>\n",
       "    </tr>\n",
       "  </tbody>\n",
       "</table>\n",
       "</div>"
      ],
      "text/plain": [
       "                           O3 Value  NO2 Value  PM10 Value\n",
       "Station                                                   \n",
       "Barcelona - Ciutadella    25.200557  39.984680   21.066852\n",
       "Barcelona - Poblenou      31.961003  40.444290   20.055710\n",
       "Barcelona - Eixample      21.655989  53.717270   22.781337\n",
       "Barcelona - Gràcia        26.274373  45.593315   21.066852\n",
       "Barcelona - Palau Reial   31.961003  28.454039   14.721448\n",
       "Barcelona - Vall Hebron   36.403900  30.849582   14.728412\n",
       "Barcelona - Observ Fabra  64.207521  12.271588   10.941504"
      ]
     },
     "execution_count": 9,
     "metadata": {},
     "output_type": "execute_result"
    }
   ],
   "source": [
    "order = ['Barcelona - Ciutadella', 'Barcelona - Poblenou', 'Barcelona - Eixample', 'Barcelona - Gràcia', 'Barcelona - Palau Reial', 'Barcelona - Vall Hebron', 'Barcelona - Observ Fabra']\n",
    "air_quality_df = pd.read_csv('datasets_71509_948751_air_quality_Nov2017.csv').filter(['Station', 'O3 Value', 'NO2 Value', 'PM10 Value']).fillna(method='ffill')\n",
    "air_quality_df = air_quality_df.groupby('Station').mean().reindex(order)\n",
    "air_quality_df"
   ]
  },
  {
   "cell_type": "code",
   "execution_count": 11,
   "metadata": {},
   "outputs": [
    {
     "data": {
      "application/vnd.plotly.v1+json": {
       "config": {
        "plotlyServerURL": "https://plot.ly"
       },
       "data": [
        {
         "name": "PM10 air value",
         "type": "bar",
         "x": [
          "Barcelona - Ciutadella",
          "Barcelona - Poblenou",
          "Barcelona - Eixample",
          "Barcelona - Gràcia",
          "Barcelona - Palau Reial",
          "Barcelona - Vall Hebron",
          "Barcelona - Observ Fabra"
         ],
         "y": [
          21.06685236768802,
          20.055710306406684,
          22.78133704735376,
          21.06685236768802,
          14.721448467966574,
          14.72841225626741,
          10.94150417827298
         ]
        },
        {
         "name": "NO2 air value",
         "type": "bar",
         "x": [
          "Barcelona - Ciutadella",
          "Barcelona - Poblenou",
          "Barcelona - Eixample",
          "Barcelona - Gràcia",
          "Barcelona - Palau Reial",
          "Barcelona - Vall Hebron",
          "Barcelona - Observ Fabra"
         ],
         "y": [
          39.98467966573816,
          40.44428969359331,
          53.71727019498607,
          45.5933147632312,
          28.454038997214486,
          30.84958217270195,
          12.27158774373259
         ]
        },
        {
         "name": "O3 air value",
         "type": "bar",
         "x": [
          "Barcelona - Ciutadella",
          "Barcelona - Poblenou",
          "Barcelona - Eixample",
          "Barcelona - Gràcia",
          "Barcelona - Palau Reial",
          "Barcelona - Vall Hebron",
          "Barcelona - Observ Fabra"
         ],
         "y": [
          25.200557103064067,
          31.96100278551532,
          21.65598885793872,
          26.274373259052926,
          31.96100278551532,
          36.40389972144847,
          64.20752089136491
         ]
        }
       ],
       "layout": {
        "showlegend": false,
        "template": {
         "data": {
          "bar": [
           {
            "error_x": {
             "color": "#2a3f5f"
            },
            "error_y": {
             "color": "#2a3f5f"
            },
            "marker": {
             "line": {
              "color": "#E5ECF6",
              "width": 0.5
             }
            },
            "type": "bar"
           }
          ],
          "barpolar": [
           {
            "marker": {
             "line": {
              "color": "#E5ECF6",
              "width": 0.5
             }
            },
            "type": "barpolar"
           }
          ],
          "carpet": [
           {
            "aaxis": {
             "endlinecolor": "#2a3f5f",
             "gridcolor": "white",
             "linecolor": "white",
             "minorgridcolor": "white",
             "startlinecolor": "#2a3f5f"
            },
            "baxis": {
             "endlinecolor": "#2a3f5f",
             "gridcolor": "white",
             "linecolor": "white",
             "minorgridcolor": "white",
             "startlinecolor": "#2a3f5f"
            },
            "type": "carpet"
           }
          ],
          "choropleth": [
           {
            "colorbar": {
             "outlinewidth": 0,
             "ticks": ""
            },
            "type": "choropleth"
           }
          ],
          "contour": [
           {
            "colorbar": {
             "outlinewidth": 0,
             "ticks": ""
            },
            "colorscale": [
             [
              0,
              "#0d0887"
             ],
             [
              0.1111111111111111,
              "#46039f"
             ],
             [
              0.2222222222222222,
              "#7201a8"
             ],
             [
              0.3333333333333333,
              "#9c179e"
             ],
             [
              0.4444444444444444,
              "#bd3786"
             ],
             [
              0.5555555555555556,
              "#d8576b"
             ],
             [
              0.6666666666666666,
              "#ed7953"
             ],
             [
              0.7777777777777778,
              "#fb9f3a"
             ],
             [
              0.8888888888888888,
              "#fdca26"
             ],
             [
              1,
              "#f0f921"
             ]
            ],
            "type": "contour"
           }
          ],
          "contourcarpet": [
           {
            "colorbar": {
             "outlinewidth": 0,
             "ticks": ""
            },
            "type": "contourcarpet"
           }
          ],
          "heatmap": [
           {
            "colorbar": {
             "outlinewidth": 0,
             "ticks": ""
            },
            "colorscale": [
             [
              0,
              "#0d0887"
             ],
             [
              0.1111111111111111,
              "#46039f"
             ],
             [
              0.2222222222222222,
              "#7201a8"
             ],
             [
              0.3333333333333333,
              "#9c179e"
             ],
             [
              0.4444444444444444,
              "#bd3786"
             ],
             [
              0.5555555555555556,
              "#d8576b"
             ],
             [
              0.6666666666666666,
              "#ed7953"
             ],
             [
              0.7777777777777778,
              "#fb9f3a"
             ],
             [
              0.8888888888888888,
              "#fdca26"
             ],
             [
              1,
              "#f0f921"
             ]
            ],
            "type": "heatmap"
           }
          ],
          "heatmapgl": [
           {
            "colorbar": {
             "outlinewidth": 0,
             "ticks": ""
            },
            "colorscale": [
             [
              0,
              "#0d0887"
             ],
             [
              0.1111111111111111,
              "#46039f"
             ],
             [
              0.2222222222222222,
              "#7201a8"
             ],
             [
              0.3333333333333333,
              "#9c179e"
             ],
             [
              0.4444444444444444,
              "#bd3786"
             ],
             [
              0.5555555555555556,
              "#d8576b"
             ],
             [
              0.6666666666666666,
              "#ed7953"
             ],
             [
              0.7777777777777778,
              "#fb9f3a"
             ],
             [
              0.8888888888888888,
              "#fdca26"
             ],
             [
              1,
              "#f0f921"
             ]
            ],
            "type": "heatmapgl"
           }
          ],
          "histogram": [
           {
            "marker": {
             "colorbar": {
              "outlinewidth": 0,
              "ticks": ""
             }
            },
            "type": "histogram"
           }
          ],
          "histogram2d": [
           {
            "colorbar": {
             "outlinewidth": 0,
             "ticks": ""
            },
            "colorscale": [
             [
              0,
              "#0d0887"
             ],
             [
              0.1111111111111111,
              "#46039f"
             ],
             [
              0.2222222222222222,
              "#7201a8"
             ],
             [
              0.3333333333333333,
              "#9c179e"
             ],
             [
              0.4444444444444444,
              "#bd3786"
             ],
             [
              0.5555555555555556,
              "#d8576b"
             ],
             [
              0.6666666666666666,
              "#ed7953"
             ],
             [
              0.7777777777777778,
              "#fb9f3a"
             ],
             [
              0.8888888888888888,
              "#fdca26"
             ],
             [
              1,
              "#f0f921"
             ]
            ],
            "type": "histogram2d"
           }
          ],
          "histogram2dcontour": [
           {
            "colorbar": {
             "outlinewidth": 0,
             "ticks": ""
            },
            "colorscale": [
             [
              0,
              "#0d0887"
             ],
             [
              0.1111111111111111,
              "#46039f"
             ],
             [
              0.2222222222222222,
              "#7201a8"
             ],
             [
              0.3333333333333333,
              "#9c179e"
             ],
             [
              0.4444444444444444,
              "#bd3786"
             ],
             [
              0.5555555555555556,
              "#d8576b"
             ],
             [
              0.6666666666666666,
              "#ed7953"
             ],
             [
              0.7777777777777778,
              "#fb9f3a"
             ],
             [
              0.8888888888888888,
              "#fdca26"
             ],
             [
              1,
              "#f0f921"
             ]
            ],
            "type": "histogram2dcontour"
           }
          ],
          "mesh3d": [
           {
            "colorbar": {
             "outlinewidth": 0,
             "ticks": ""
            },
            "type": "mesh3d"
           }
          ],
          "parcoords": [
           {
            "line": {
             "colorbar": {
              "outlinewidth": 0,
              "ticks": ""
             }
            },
            "type": "parcoords"
           }
          ],
          "pie": [
           {
            "automargin": true,
            "type": "pie"
           }
          ],
          "scatter": [
           {
            "marker": {
             "colorbar": {
              "outlinewidth": 0,
              "ticks": ""
             }
            },
            "type": "scatter"
           }
          ],
          "scatter3d": [
           {
            "line": {
             "colorbar": {
              "outlinewidth": 0,
              "ticks": ""
             }
            },
            "marker": {
             "colorbar": {
              "outlinewidth": 0,
              "ticks": ""
             }
            },
            "type": "scatter3d"
           }
          ],
          "scattercarpet": [
           {
            "marker": {
             "colorbar": {
              "outlinewidth": 0,
              "ticks": ""
             }
            },
            "type": "scattercarpet"
           }
          ],
          "scattergeo": [
           {
            "marker": {
             "colorbar": {
              "outlinewidth": 0,
              "ticks": ""
             }
            },
            "type": "scattergeo"
           }
          ],
          "scattergl": [
           {
            "marker": {
             "colorbar": {
              "outlinewidth": 0,
              "ticks": ""
             }
            },
            "type": "scattergl"
           }
          ],
          "scattermapbox": [
           {
            "marker": {
             "colorbar": {
              "outlinewidth": 0,
              "ticks": ""
             }
            },
            "type": "scattermapbox"
           }
          ],
          "scatterpolar": [
           {
            "marker": {
             "colorbar": {
              "outlinewidth": 0,
              "ticks": ""
             }
            },
            "type": "scatterpolar"
           }
          ],
          "scatterpolargl": [
           {
            "marker": {
             "colorbar": {
              "outlinewidth": 0,
              "ticks": ""
             }
            },
            "type": "scatterpolargl"
           }
          ],
          "scatterternary": [
           {
            "marker": {
             "colorbar": {
              "outlinewidth": 0,
              "ticks": ""
             }
            },
            "type": "scatterternary"
           }
          ],
          "surface": [
           {
            "colorbar": {
             "outlinewidth": 0,
             "ticks": ""
            },
            "colorscale": [
             [
              0,
              "#0d0887"
             ],
             [
              0.1111111111111111,
              "#46039f"
             ],
             [
              0.2222222222222222,
              "#7201a8"
             ],
             [
              0.3333333333333333,
              "#9c179e"
             ],
             [
              0.4444444444444444,
              "#bd3786"
             ],
             [
              0.5555555555555556,
              "#d8576b"
             ],
             [
              0.6666666666666666,
              "#ed7953"
             ],
             [
              0.7777777777777778,
              "#fb9f3a"
             ],
             [
              0.8888888888888888,
              "#fdca26"
             ],
             [
              1,
              "#f0f921"
             ]
            ],
            "type": "surface"
           }
          ],
          "table": [
           {
            "cells": {
             "fill": {
              "color": "#EBF0F8"
             },
             "line": {
              "color": "white"
             }
            },
            "header": {
             "fill": {
              "color": "#C8D4E3"
             },
             "line": {
              "color": "white"
             }
            },
            "type": "table"
           }
          ]
         },
         "layout": {
          "annotationdefaults": {
           "arrowcolor": "#2a3f5f",
           "arrowhead": 0,
           "arrowwidth": 1
          },
          "coloraxis": {
           "colorbar": {
            "outlinewidth": 0,
            "ticks": ""
           }
          },
          "colorscale": {
           "diverging": [
            [
             0,
             "#8e0152"
            ],
            [
             0.1,
             "#c51b7d"
            ],
            [
             0.2,
             "#de77ae"
            ],
            [
             0.3,
             "#f1b6da"
            ],
            [
             0.4,
             "#fde0ef"
            ],
            [
             0.5,
             "#f7f7f7"
            ],
            [
             0.6,
             "#e6f5d0"
            ],
            [
             0.7,
             "#b8e186"
            ],
            [
             0.8,
             "#7fbc41"
            ],
            [
             0.9,
             "#4d9221"
            ],
            [
             1,
             "#276419"
            ]
           ],
           "sequential": [
            [
             0,
             "#0d0887"
            ],
            [
             0.1111111111111111,
             "#46039f"
            ],
            [
             0.2222222222222222,
             "#7201a8"
            ],
            [
             0.3333333333333333,
             "#9c179e"
            ],
            [
             0.4444444444444444,
             "#bd3786"
            ],
            [
             0.5555555555555556,
             "#d8576b"
            ],
            [
             0.6666666666666666,
             "#ed7953"
            ],
            [
             0.7777777777777778,
             "#fb9f3a"
            ],
            [
             0.8888888888888888,
             "#fdca26"
            ],
            [
             1,
             "#f0f921"
            ]
           ],
           "sequentialminus": [
            [
             0,
             "#0d0887"
            ],
            [
             0.1111111111111111,
             "#46039f"
            ],
            [
             0.2222222222222222,
             "#7201a8"
            ],
            [
             0.3333333333333333,
             "#9c179e"
            ],
            [
             0.4444444444444444,
             "#bd3786"
            ],
            [
             0.5555555555555556,
             "#d8576b"
            ],
            [
             0.6666666666666666,
             "#ed7953"
            ],
            [
             0.7777777777777778,
             "#fb9f3a"
            ],
            [
             0.8888888888888888,
             "#fdca26"
            ],
            [
             1,
             "#f0f921"
            ]
           ]
          },
          "colorway": [
           "#636efa",
           "#EF553B",
           "#00cc96",
           "#ab63fa",
           "#FFA15A",
           "#19d3f3",
           "#FF6692",
           "#B6E880",
           "#FF97FF",
           "#FECB52"
          ],
          "font": {
           "color": "#2a3f5f"
          },
          "geo": {
           "bgcolor": "white",
           "lakecolor": "white",
           "landcolor": "#E5ECF6",
           "showlakes": true,
           "showland": true,
           "subunitcolor": "white"
          },
          "hoverlabel": {
           "align": "left"
          },
          "hovermode": "closest",
          "mapbox": {
           "style": "light"
          },
          "paper_bgcolor": "white",
          "plot_bgcolor": "#E5ECF6",
          "polar": {
           "angularaxis": {
            "gridcolor": "white",
            "linecolor": "white",
            "ticks": ""
           },
           "bgcolor": "#E5ECF6",
           "radialaxis": {
            "gridcolor": "white",
            "linecolor": "white",
            "ticks": ""
           }
          },
          "scene": {
           "xaxis": {
            "backgroundcolor": "#E5ECF6",
            "gridcolor": "white",
            "gridwidth": 2,
            "linecolor": "white",
            "showbackground": true,
            "ticks": "",
            "zerolinecolor": "white"
           },
           "yaxis": {
            "backgroundcolor": "#E5ECF6",
            "gridcolor": "white",
            "gridwidth": 2,
            "linecolor": "white",
            "showbackground": true,
            "ticks": "",
            "zerolinecolor": "white"
           },
           "zaxis": {
            "backgroundcolor": "#E5ECF6",
            "gridcolor": "white",
            "gridwidth": 2,
            "linecolor": "white",
            "showbackground": true,
            "ticks": "",
            "zerolinecolor": "white"
           }
          },
          "shapedefaults": {
           "line": {
            "color": "#2a3f5f"
           }
          },
          "ternary": {
           "aaxis": {
            "gridcolor": "white",
            "linecolor": "white",
            "ticks": ""
           },
           "baxis": {
            "gridcolor": "white",
            "linecolor": "white",
            "ticks": ""
           },
           "bgcolor": "#E5ECF6",
           "caxis": {
            "gridcolor": "white",
            "linecolor": "white",
            "ticks": ""
           }
          },
          "title": {
           "x": 0.05
          },
          "xaxis": {
           "automargin": true,
           "gridcolor": "white",
           "linecolor": "white",
           "ticks": "",
           "title": {
            "standoff": 15
           },
           "zerolinecolor": "white",
           "zerolinewidth": 2
          },
          "yaxis": {
           "automargin": true,
           "gridcolor": "white",
           "linecolor": "white",
           "ticks": "",
           "title": {
            "standoff": 15
           },
           "zerolinecolor": "white",
           "zerolinewidth": 2
          }
         }
        },
        "title": {
         "text": "Values of NO2, PM10 and O3"
        },
        "updatemenus": [
         {
          "active": -1,
          "buttons": [
           {
            "args": [
             {
              "visible": [
               false,
               true,
               false
              ]
             },
             {
              "title": "PM10 air value"
             }
            ],
            "label": "PM10 air value",
            "method": "update"
           },
           {
            "args": [
             {
              "visible": [
               true,
               false,
               false
              ]
             },
             {
              "title": "NO2 air value"
             }
            ],
            "label": "NO2 air value",
            "method": "update"
           },
           {
            "args": [
             {
              "visible": [
               false,
               false,
               true
              ]
             },
             {
              "title": "O3 air value"
             }
            ],
            "label": "O3 air value",
            "method": "update"
           }
          ]
         }
        ],
        "xaxis": {
         "title": {
          "text": "Meetstations van Barcelona, van dichtbij tot ver van de zee"
         }
        },
        "yaxis": {
         "title": {
          "text": "Percentage"
         }
        }
       }
      },
      "text/html": [
       "<div>\n",
       "        \n",
       "        \n",
       "            <div id=\"d508f692-48a2-4e5f-8cd0-077a853bf36c\" class=\"plotly-graph-div\" style=\"height:525px; width:100%;\"></div>\n",
       "            <script type=\"text/javascript\">\n",
       "                require([\"plotly\"], function(Plotly) {\n",
       "                    window.PLOTLYENV=window.PLOTLYENV || {};\n",
       "                    \n",
       "                if (document.getElementById(\"d508f692-48a2-4e5f-8cd0-077a853bf36c\")) {\n",
       "                    Plotly.newPlot(\n",
       "                        'd508f692-48a2-4e5f-8cd0-077a853bf36c',\n",
       "                        [{\"name\": \"PM10 air value\", \"type\": \"bar\", \"x\": [\"Barcelona - Ciutadella\", \"Barcelona - Poblenou\", \"Barcelona - Eixample\", \"Barcelona - Gr\\u00e0cia\", \"Barcelona - Palau Reial\", \"Barcelona - Vall Hebron\", \"Barcelona - Observ Fabra\"], \"y\": [21.06685236768802, 20.055710306406684, 22.78133704735376, 21.06685236768802, 14.721448467966574, 14.72841225626741, 10.94150417827298]}, {\"name\": \"NO2 air value\", \"type\": \"bar\", \"x\": [\"Barcelona - Ciutadella\", \"Barcelona - Poblenou\", \"Barcelona - Eixample\", \"Barcelona - Gr\\u00e0cia\", \"Barcelona - Palau Reial\", \"Barcelona - Vall Hebron\", \"Barcelona - Observ Fabra\"], \"y\": [39.98467966573816, 40.44428969359331, 53.71727019498607, 45.5933147632312, 28.454038997214486, 30.84958217270195, 12.27158774373259]}, {\"name\": \"O3 air value\", \"type\": \"bar\", \"x\": [\"Barcelona - Ciutadella\", \"Barcelona - Poblenou\", \"Barcelona - Eixample\", \"Barcelona - Gr\\u00e0cia\", \"Barcelona - Palau Reial\", \"Barcelona - Vall Hebron\", \"Barcelona - Observ Fabra\"], \"y\": [25.200557103064067, 31.96100278551532, 21.65598885793872, 26.274373259052926, 31.96100278551532, 36.40389972144847, 64.20752089136491]}],\n",
       "                        {\"showlegend\": false, \"template\": {\"data\": {\"bar\": [{\"error_x\": {\"color\": \"#2a3f5f\"}, \"error_y\": {\"color\": \"#2a3f5f\"}, \"marker\": {\"line\": {\"color\": \"#E5ECF6\", \"width\": 0.5}}, \"type\": \"bar\"}], \"barpolar\": [{\"marker\": {\"line\": {\"color\": \"#E5ECF6\", \"width\": 0.5}}, \"type\": \"barpolar\"}], \"carpet\": [{\"aaxis\": {\"endlinecolor\": \"#2a3f5f\", \"gridcolor\": \"white\", \"linecolor\": \"white\", \"minorgridcolor\": \"white\", \"startlinecolor\": \"#2a3f5f\"}, \"baxis\": {\"endlinecolor\": \"#2a3f5f\", \"gridcolor\": \"white\", \"linecolor\": \"white\", \"minorgridcolor\": \"white\", \"startlinecolor\": \"#2a3f5f\"}, \"type\": \"carpet\"}], \"choropleth\": [{\"colorbar\": {\"outlinewidth\": 0, \"ticks\": \"\"}, \"type\": \"choropleth\"}], \"contour\": [{\"colorbar\": {\"outlinewidth\": 0, \"ticks\": \"\"}, \"colorscale\": [[0.0, \"#0d0887\"], [0.1111111111111111, \"#46039f\"], [0.2222222222222222, \"#7201a8\"], [0.3333333333333333, \"#9c179e\"], [0.4444444444444444, \"#bd3786\"], [0.5555555555555556, \"#d8576b\"], [0.6666666666666666, \"#ed7953\"], [0.7777777777777778, \"#fb9f3a\"], [0.8888888888888888, \"#fdca26\"], [1.0, \"#f0f921\"]], \"type\": \"contour\"}], \"contourcarpet\": [{\"colorbar\": {\"outlinewidth\": 0, \"ticks\": \"\"}, \"type\": \"contourcarpet\"}], \"heatmap\": [{\"colorbar\": {\"outlinewidth\": 0, \"ticks\": \"\"}, \"colorscale\": [[0.0, \"#0d0887\"], [0.1111111111111111, \"#46039f\"], [0.2222222222222222, \"#7201a8\"], [0.3333333333333333, \"#9c179e\"], [0.4444444444444444, \"#bd3786\"], [0.5555555555555556, \"#d8576b\"], [0.6666666666666666, \"#ed7953\"], [0.7777777777777778, \"#fb9f3a\"], [0.8888888888888888, \"#fdca26\"], [1.0, \"#f0f921\"]], \"type\": \"heatmap\"}], \"heatmapgl\": [{\"colorbar\": {\"outlinewidth\": 0, \"ticks\": \"\"}, \"colorscale\": [[0.0, \"#0d0887\"], [0.1111111111111111, \"#46039f\"], [0.2222222222222222, \"#7201a8\"], [0.3333333333333333, \"#9c179e\"], [0.4444444444444444, \"#bd3786\"], [0.5555555555555556, \"#d8576b\"], [0.6666666666666666, \"#ed7953\"], [0.7777777777777778, \"#fb9f3a\"], [0.8888888888888888, \"#fdca26\"], [1.0, \"#f0f921\"]], \"type\": \"heatmapgl\"}], \"histogram\": [{\"marker\": {\"colorbar\": {\"outlinewidth\": 0, \"ticks\": \"\"}}, \"type\": \"histogram\"}], \"histogram2d\": [{\"colorbar\": {\"outlinewidth\": 0, \"ticks\": \"\"}, \"colorscale\": [[0.0, \"#0d0887\"], [0.1111111111111111, \"#46039f\"], [0.2222222222222222, \"#7201a8\"], [0.3333333333333333, \"#9c179e\"], [0.4444444444444444, \"#bd3786\"], [0.5555555555555556, \"#d8576b\"], [0.6666666666666666, \"#ed7953\"], [0.7777777777777778, \"#fb9f3a\"], [0.8888888888888888, \"#fdca26\"], [1.0, \"#f0f921\"]], \"type\": \"histogram2d\"}], \"histogram2dcontour\": [{\"colorbar\": {\"outlinewidth\": 0, \"ticks\": \"\"}, \"colorscale\": [[0.0, \"#0d0887\"], [0.1111111111111111, \"#46039f\"], [0.2222222222222222, \"#7201a8\"], [0.3333333333333333, \"#9c179e\"], [0.4444444444444444, \"#bd3786\"], [0.5555555555555556, \"#d8576b\"], [0.6666666666666666, \"#ed7953\"], [0.7777777777777778, \"#fb9f3a\"], [0.8888888888888888, \"#fdca26\"], [1.0, \"#f0f921\"]], \"type\": \"histogram2dcontour\"}], \"mesh3d\": [{\"colorbar\": {\"outlinewidth\": 0, \"ticks\": \"\"}, \"type\": \"mesh3d\"}], \"parcoords\": [{\"line\": {\"colorbar\": {\"outlinewidth\": 0, \"ticks\": \"\"}}, \"type\": \"parcoords\"}], \"pie\": [{\"automargin\": true, \"type\": \"pie\"}], \"scatter\": [{\"marker\": {\"colorbar\": {\"outlinewidth\": 0, \"ticks\": \"\"}}, \"type\": \"scatter\"}], \"scatter3d\": [{\"line\": {\"colorbar\": {\"outlinewidth\": 0, \"ticks\": \"\"}}, \"marker\": {\"colorbar\": {\"outlinewidth\": 0, \"ticks\": \"\"}}, \"type\": \"scatter3d\"}], \"scattercarpet\": [{\"marker\": {\"colorbar\": {\"outlinewidth\": 0, \"ticks\": \"\"}}, \"type\": \"scattercarpet\"}], \"scattergeo\": [{\"marker\": {\"colorbar\": {\"outlinewidth\": 0, \"ticks\": \"\"}}, \"type\": \"scattergeo\"}], \"scattergl\": [{\"marker\": {\"colorbar\": {\"outlinewidth\": 0, \"ticks\": \"\"}}, \"type\": \"scattergl\"}], \"scattermapbox\": [{\"marker\": {\"colorbar\": {\"outlinewidth\": 0, \"ticks\": \"\"}}, \"type\": \"scattermapbox\"}], \"scatterpolar\": [{\"marker\": {\"colorbar\": {\"outlinewidth\": 0, \"ticks\": \"\"}}, \"type\": \"scatterpolar\"}], \"scatterpolargl\": [{\"marker\": {\"colorbar\": {\"outlinewidth\": 0, \"ticks\": \"\"}}, \"type\": \"scatterpolargl\"}], \"scatterternary\": [{\"marker\": {\"colorbar\": {\"outlinewidth\": 0, \"ticks\": \"\"}}, \"type\": \"scatterternary\"}], \"surface\": [{\"colorbar\": {\"outlinewidth\": 0, \"ticks\": \"\"}, \"colorscale\": [[0.0, \"#0d0887\"], [0.1111111111111111, \"#46039f\"], [0.2222222222222222, \"#7201a8\"], [0.3333333333333333, \"#9c179e\"], [0.4444444444444444, \"#bd3786\"], [0.5555555555555556, \"#d8576b\"], [0.6666666666666666, \"#ed7953\"], [0.7777777777777778, \"#fb9f3a\"], [0.8888888888888888, \"#fdca26\"], [1.0, \"#f0f921\"]], \"type\": \"surface\"}], \"table\": [{\"cells\": {\"fill\": {\"color\": \"#EBF0F8\"}, \"line\": {\"color\": \"white\"}}, \"header\": {\"fill\": {\"color\": \"#C8D4E3\"}, \"line\": {\"color\": \"white\"}}, \"type\": \"table\"}]}, \"layout\": {\"annotationdefaults\": {\"arrowcolor\": \"#2a3f5f\", \"arrowhead\": 0, \"arrowwidth\": 1}, \"coloraxis\": {\"colorbar\": {\"outlinewidth\": 0, \"ticks\": \"\"}}, \"colorscale\": {\"diverging\": [[0, \"#8e0152\"], [0.1, \"#c51b7d\"], [0.2, \"#de77ae\"], [0.3, \"#f1b6da\"], [0.4, \"#fde0ef\"], [0.5, \"#f7f7f7\"], [0.6, \"#e6f5d0\"], [0.7, \"#b8e186\"], [0.8, \"#7fbc41\"], [0.9, \"#4d9221\"], [1, \"#276419\"]], \"sequential\": [[0.0, \"#0d0887\"], [0.1111111111111111, \"#46039f\"], [0.2222222222222222, \"#7201a8\"], [0.3333333333333333, \"#9c179e\"], [0.4444444444444444, \"#bd3786\"], [0.5555555555555556, \"#d8576b\"], [0.6666666666666666, \"#ed7953\"], [0.7777777777777778, \"#fb9f3a\"], [0.8888888888888888, \"#fdca26\"], [1.0, \"#f0f921\"]], \"sequentialminus\": [[0.0, \"#0d0887\"], [0.1111111111111111, \"#46039f\"], [0.2222222222222222, \"#7201a8\"], [0.3333333333333333, \"#9c179e\"], [0.4444444444444444, \"#bd3786\"], [0.5555555555555556, \"#d8576b\"], [0.6666666666666666, \"#ed7953\"], [0.7777777777777778, \"#fb9f3a\"], [0.8888888888888888, \"#fdca26\"], [1.0, \"#f0f921\"]]}, \"colorway\": [\"#636efa\", \"#EF553B\", \"#00cc96\", \"#ab63fa\", \"#FFA15A\", \"#19d3f3\", \"#FF6692\", \"#B6E880\", \"#FF97FF\", \"#FECB52\"], \"font\": {\"color\": \"#2a3f5f\"}, \"geo\": {\"bgcolor\": \"white\", \"lakecolor\": \"white\", \"landcolor\": \"#E5ECF6\", \"showlakes\": true, \"showland\": true, \"subunitcolor\": \"white\"}, \"hoverlabel\": {\"align\": \"left\"}, \"hovermode\": \"closest\", \"mapbox\": {\"style\": \"light\"}, \"paper_bgcolor\": \"white\", \"plot_bgcolor\": \"#E5ECF6\", \"polar\": {\"angularaxis\": {\"gridcolor\": \"white\", \"linecolor\": \"white\", \"ticks\": \"\"}, \"bgcolor\": \"#E5ECF6\", \"radialaxis\": {\"gridcolor\": \"white\", \"linecolor\": \"white\", \"ticks\": \"\"}}, \"scene\": {\"xaxis\": {\"backgroundcolor\": \"#E5ECF6\", \"gridcolor\": \"white\", \"gridwidth\": 2, \"linecolor\": \"white\", \"showbackground\": true, \"ticks\": \"\", \"zerolinecolor\": \"white\"}, \"yaxis\": {\"backgroundcolor\": \"#E5ECF6\", \"gridcolor\": \"white\", \"gridwidth\": 2, \"linecolor\": \"white\", \"showbackground\": true, \"ticks\": \"\", \"zerolinecolor\": \"white\"}, \"zaxis\": {\"backgroundcolor\": \"#E5ECF6\", \"gridcolor\": \"white\", \"gridwidth\": 2, \"linecolor\": \"white\", \"showbackground\": true, \"ticks\": \"\", \"zerolinecolor\": \"white\"}}, \"shapedefaults\": {\"line\": {\"color\": \"#2a3f5f\"}}, \"ternary\": {\"aaxis\": {\"gridcolor\": \"white\", \"linecolor\": \"white\", \"ticks\": \"\"}, \"baxis\": {\"gridcolor\": \"white\", \"linecolor\": \"white\", \"ticks\": \"\"}, \"bgcolor\": \"#E5ECF6\", \"caxis\": {\"gridcolor\": \"white\", \"linecolor\": \"white\", \"ticks\": \"\"}}, \"title\": {\"x\": 0.05}, \"xaxis\": {\"automargin\": true, \"gridcolor\": \"white\", \"linecolor\": \"white\", \"ticks\": \"\", \"title\": {\"standoff\": 15}, \"zerolinecolor\": \"white\", \"zerolinewidth\": 2}, \"yaxis\": {\"automargin\": true, \"gridcolor\": \"white\", \"linecolor\": \"white\", \"ticks\": \"\", \"title\": {\"standoff\": 15}, \"zerolinecolor\": \"white\", \"zerolinewidth\": 2}}}, \"title\": {\"text\": \"Values of NO2, PM10 and O3\"}, \"updatemenus\": [{\"active\": -1, \"buttons\": [{\"args\": [{\"visible\": [false, true, false]}, {\"title\": \"PM10 air value\"}], \"label\": \"PM10 air value\", \"method\": \"update\"}, {\"args\": [{\"visible\": [true, false, false]}, {\"title\": \"NO2 air value\"}], \"label\": \"NO2 air value\", \"method\": \"update\"}, {\"args\": [{\"visible\": [false, false, true]}, {\"title\": \"O3 air value\"}], \"label\": \"O3 air value\", \"method\": \"update\"}]}], \"xaxis\": {\"title\": {\"text\": \"Meetstations van Barcelona, van dichtbij tot ver van de zee\"}}, \"yaxis\": {\"title\": {\"text\": \"Percentage\"}}},\n",
       "                        {\"responsive\": true}\n",
       "                    ).then(function(){\n",
       "                            \n",
       "var gd = document.getElementById('d508f692-48a2-4e5f-8cd0-077a853bf36c');\n",
       "var x = new MutationObserver(function (mutations, observer) {{\n",
       "        var display = window.getComputedStyle(gd).display;\n",
       "        if (!display || display === 'none') {{\n",
       "            console.log([gd, 'removed!']);\n",
       "            Plotly.purge(gd);\n",
       "            observer.disconnect();\n",
       "        }}\n",
       "}});\n",
       "\n",
       "// Listen for the removal of the full notebook cells\n",
       "var notebookContainer = gd.closest('#notebook-container');\n",
       "if (notebookContainer) {{\n",
       "    x.observe(notebookContainer, {childList: true});\n",
       "}}\n",
       "\n",
       "// Listen for the clearing of the current output cell\n",
       "var outputEl = gd.closest('.output');\n",
       "if (outputEl) {{\n",
       "    x.observe(outputEl, {childList: true});\n",
       "}}\n",
       "\n",
       "                        })\n",
       "                };\n",
       "                });\n",
       "            </script>\n",
       "        </div>"
      ]
     },
     "metadata": {},
     "output_type": "display_data"
    }
   ],
   "source": [
    "# Create figure\n",
    "fig = go.Figure()\n",
    "\n",
    "fig.add_trace(go.Bar(x=list(air_quality_df.index), y=list(air_quality_df['PM10 Value']),\n",
    "                        name = 'PM10 air value'))\n",
    "\n",
    "fig.add_trace(go.Bar(x=list(air_quality_df.index), y=list(air_quality_df['NO2 Value']),\n",
    "                        name = 'NO2 air value'))\n",
    "\n",
    "fig.add_trace(go.Bar(x=list(air_quality_df.index), y=list(air_quality_df['O3 Value']),\n",
    "                        name = 'O3 air value'))\n",
    "\n",
    "updatemenus = list([\n",
    "    dict(active=-1,\n",
    "        buttons=list([\n",
    "            dict(label= 'PM10 air value',\n",
    "                method = 'update',\n",
    "                args = [{'visible': [False, True, False]},\n",
    "                       {'title' : 'PM10 air value'}]), \n",
    "            dict(label = 'NO2 air value',\n",
    "                method = 'update',\n",
    "                args = [{'visible' : [True, False, False]},\n",
    "                       {'title' : 'NO2 air value'}]),\n",
    "            dict(label = 'O3 air value',\n",
    "                method = 'update',\n",
    "                args = [{'visible' : [False, False, True]},\n",
    "                       {'title' : 'O3 air value'}]),\n",
    "        ]),\n",
    "    )\n",
    "])\n",
    "\n",
    "fig.update_layout(dict(yaxis_title = 'Percentage',\n",
    "                xaxis_title =  'Meetstations van Barcelona, van dichtbij tot ver van de zee',\n",
    "                showlegend = False,\n",
    "                title = 'Values of NO2, PM10 and O3',\n",
    "                updatemenus=updatemenus))\n",
    "\n",
    "fig.show()\n"
   ]
  },
  {
   "cell_type": "code",
   "execution_count": null,
   "metadata": {},
   "outputs": [],
   "source": []
  },
  {
   "cell_type": "code",
   "execution_count": null,
   "metadata": {},
   "outputs": [],
   "source": []
  }
 ],
 "metadata": {
  "kernelspec": {
   "display_name": "Python 3",
   "language": "python",
   "name": "python3"
  },
  "language_info": {
   "codemirror_mode": {
    "name": "ipython",
    "version": 3
   },
   "file_extension": ".py",
   "mimetype": "text/x-python",
   "name": "python",
   "nbconvert_exporter": "python",
   "pygments_lexer": "ipython3",
   "version": "3.7.4"
  }
 },
 "nbformat": 4,
 "nbformat_minor": 2
}
